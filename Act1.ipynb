{
 "cells": [
  {
   "cell_type": "code",
   "execution_count": 23,
   "metadata": {},
   "outputs": [],
   "source": [
    "import pandas as pd\n",
    "import numpy as np\n",
    "import matplotlib.pyplot as plt"
   ]
  },
  {
   "cell_type": "code",
   "execution_count": 24,
   "metadata": {},
   "outputs": [
    {
     "name": "stdout",
     "output_type": "stream",
     "text": [
      "    Peso  Estatura\n",
      "0     56       174\n",
      "1     45       173\n",
      "2     75       156\n",
      "3     34       178\n",
      "4     53       180\n",
      "5     23       165\n",
      "6     24       140\n",
      "7     75       165\n",
      "8     43       145\n",
      "9     33       158\n",
      "10    54       163\n",
      "11    35       140\n",
      "12    65       183\n",
      "13    63       179\n"
     ]
    }
   ],
   "source": [
    "data=pd.read_csv(\"tallas.csv\")\n",
    "print(data)"
   ]
  },
  {
   "cell_type": "code",
   "execution_count": 25,
   "metadata": {},
   "outputs": [
    {
     "name": "stdout",
     "output_type": "stream",
     "text": [
      "[174, 173, 156, 178, 180, 165, 140, 165, 145, 158, 163, 140, 183, 179]\n",
      "El promedio es:  164.21428571428572\n",
      "count     14.000000\n",
      "mean     164.214286\n",
      "std       14.765753\n",
      "min      140.000000\n",
      "25%      156.500000\n",
      "50%      165.000000\n",
      "75%      177.000000\n",
      "max      183.000000\n",
      "Name: Estatura, dtype: float64\n"
     ]
    }
   ],
   "source": [
    "h=list(data.Estatura)\n",
    "print(h)\n",
    "print(\"El promedio es: \", sum(h)/len(h))\n",
    "print(data['Estatura'].describe())"
   ]
  },
  {
   "cell_type": "code",
   "execution_count": 26,
   "metadata": {},
   "outputs": [],
   "source": [
    "def AnalisisCorrelacion (a,b):\n",
    "    coefPearson=np.corrcoef(a,b)\n",
    "    print(coefPearson)\n",
    "    plt.scatter(a,b,color=\"#FC1389\")\n",
    "    plt.show()"
   ]
  },
  {
   "cell_type": "code",
   "execution_count": 29,
   "metadata": {},
   "outputs": [
    {
     "name": "stdout",
     "output_type": "stream",
     "text": [
      "5\n",
      "[[1.         0.89442719]\n",
      " [0.89442719 1.        ]]\n"
     ]
    },
    {
     "data": {
      "image/png": "[encoded data removed]",
      "text/plain": [
       "<Figure size 432x288 with 1 Axes>"
      ]
     },
     "metadata": {
      "needs_background": "light"
     },
     "output_type": "display_data"
    }
   ],
   "source": [
    "a=[14,7,3,15,11]\n",
    "b=[6,5,3,9,7]\n",
    "size=len(a)\n",
    "print(size)\n",
    "AnalisisCorrelacion(a,b)"
   ]
  }
 ],
 "metadata": {
  "kernelspec": {
   "display_name": "Python 3.10.6 64-bit",
   "language": "python",
   "name": "python3"
  },
  "language_info": {
   "codemirror_mode": {
    "name": "ipython",
    "version": 3
   },
   "file_extension": ".py",
   "mimetype": "text/x-python",
   "name": "python",
   "nbconvert_exporter": "python",
   "pygments_lexer": "ipython3",
   "version": "3.10.6"
  },
  "orig_nbformat": 4,
  "vscode": {
   "interpreter": {
    "hash": "aee8b7b246df8f9039afb4144a1f6fd8d2ca17a180786b69acc140d282b71a49"
   }
  }
 },
 "nbformat": 4,
 "nbformat_minor": 2
}
